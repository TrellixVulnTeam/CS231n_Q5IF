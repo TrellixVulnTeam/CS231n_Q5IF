{
 "cells": [
  {
   "cell_type": "markdown",
   "metadata": {
    "tags": [
     "pdf-title"
    ]
   },
   "source": [
    "# Softmax exercise\n",
    "\n",
    "*Complete and hand in this completed worksheet (including its outputs and any supporting code outside of the worksheet) with your assignment submission. For more details see the course website.*\n",
    "\n",
    "This exercise is analogous to the SVM exercise. You will:\n",
    "\n",
    "- implement a fully-vectorized **loss function** for the Softmax classifier\n",
    "- implement the fully-vectorized expression for its **analytic gradient**\n",
    "- **check your implementation** with numerical gradient\n",
    "- use a validation set to **tune the learning rate and regularization** strengths\n",
    "- **optimize** the loss function with **SGD**\n",
    "- **visualize** the final learned weights\n"
   ]
  },
  {
   "cell_type": "code",
   "execution_count": 1,
   "metadata": {
    "tags": [
     "pdf-ignore"
    ]
   },
   "outputs": [],
   "source": [
    "import random\n",
    "import numpy as np\n",
    "from comp451.data_utils import load_CIFAR10\n",
    "import matplotlib.pyplot as plt\n",
    "\n",
    "%matplotlib inline\n",
    "plt.rcParams['figure.figsize'] = (10.0, 8.0) # set default size of plots\n",
    "plt.rcParams['image.interpolation'] = 'nearest'\n",
    "plt.rcParams['image.cmap'] = 'gray'\n",
    "\n",
    "# for auto-reloading extenrnal modules\n",
    "# see http://stackoverflow.com/questions/1907993/autoreload-of-modules-in-ipython\n",
    "%load_ext autoreload\n",
    "%autoreload 2"
   ]
  },
  {
   "cell_type": "code",
   "execution_count": 2,
   "metadata": {
    "tags": [
     "pdf-ignore"
    ]
   },
   "outputs": [
    {
     "name": "stdout",
     "output_type": "stream",
     "text": [
      "Train data shape:  (49000, 3073)\n",
      "Train labels shape:  (49000,)\n",
      "Validation data shape:  (1000, 3073)\n",
      "Validation labels shape:  (1000,)\n",
      "Test data shape:  (1000, 3073)\n",
      "Test labels shape:  (1000,)\n",
      "dev data shape:  (500, 3073)\n",
      "dev labels shape:  (500,)\n"
     ]
    }
   ],
   "source": [
    "def get_CIFAR10_data(num_training=49000, num_validation=1000, num_test=1000, num_dev=500):\n",
    "    \"\"\"\n",
    "    Load the CIFAR-10 dataset from disk and perform preprocessing to prepare\n",
    "    it for the linear classifier. These are the same steps as we used for the\n",
    "    SVM, but condensed to a single function.  \n",
    "    \"\"\"\n",
    "    # Load the raw CIFAR-10 data\n",
    "    cifar10_dir = 'comp451/datasets/cifar-10-batches-py'\n",
    "    \n",
    "    # Cleaning up variables to prevent loading data multiple times (which may cause memory issue)\n",
    "    try:\n",
    "       del X_train, y_train\n",
    "       del X_test, y_test\n",
    "       print('Clear previously loaded data.')\n",
    "    except:\n",
    "       pass\n",
    "\n",
    "    X_train, y_train, X_test, y_test = load_CIFAR10(cifar10_dir)\n",
    "    \n",
    "    # subsample the data\n",
    "    mask = list(range(num_training, num_training + num_validation))\n",
    "    X_val = X_train[mask]\n",
    "    y_val = y_train[mask]\n",
    "    mask = list(range(num_training))\n",
    "    X_train = X_train[mask]\n",
    "    y_train = y_train[mask]\n",
    "    mask = list(range(num_test))\n",
    "    X_test = X_test[mask]\n",
    "    y_test = y_test[mask]\n",
    "    mask = np.random.choice(num_training, num_dev, replace=False)\n",
    "    X_dev = X_train[mask]\n",
    "    y_dev = y_train[mask]\n",
    "    \n",
    "    # Preprocessing: reshape the image data into rows\n",
    "    X_train = np.reshape(X_train, (X_train.shape[0], -1))\n",
    "    X_val = np.reshape(X_val, (X_val.shape[0], -1))\n",
    "    X_test = np.reshape(X_test, (X_test.shape[0], -1))\n",
    "    X_dev = np.reshape(X_dev, (X_dev.shape[0], -1))\n",
    "    \n",
    "    # Normalize the data: subtract the mean image\n",
    "    mean_image = np.mean(X_train, axis = 0)\n",
    "    X_train -= mean_image\n",
    "    X_val -= mean_image\n",
    "    X_test -= mean_image\n",
    "    X_dev -= mean_image\n",
    "    \n",
    "    # add bias dimension and transform into columns\n",
    "    X_train = np.hstack([X_train, np.ones((X_train.shape[0], 1))])\n",
    "    X_val = np.hstack([X_val, np.ones((X_val.shape[0], 1))])\n",
    "    X_test = np.hstack([X_test, np.ones((X_test.shape[0], 1))])\n",
    "    X_dev = np.hstack([X_dev, np.ones((X_dev.shape[0], 1))])\n",
    "    \n",
    "    return X_train, y_train, X_val, y_val, X_test, y_test, X_dev, y_dev\n",
    "\n",
    "\n",
    "# Invoke the above function to get our data.\n",
    "X_train, y_train, X_val, y_val, X_test, y_test, X_dev, y_dev = get_CIFAR10_data()\n",
    "print('Train data shape: ', X_train.shape)\n",
    "print('Train labels shape: ', y_train.shape)\n",
    "print('Validation data shape: ', X_val.shape)\n",
    "print('Validation labels shape: ', y_val.shape)\n",
    "print('Test data shape: ', X_test.shape)\n",
    "print('Test labels shape: ', y_test.shape)\n",
    "print('dev data shape: ', X_dev.shape)\n",
    "print('dev labels shape: ', y_dev.shape)"
   ]
  },
  {
   "cell_type": "markdown",
   "metadata": {},
   "source": [
    "## Softmax Classifier\n",
    "\n",
    "Your code for this section will all be written inside **comp451/classifiers/softmax.py**. \n"
   ]
  },
  {
   "cell_type": "code",
   "execution_count": 17,
   "metadata": {},
   "outputs": [
    {
     "name": "stdout",
     "output_type": "stream",
     "text": [
      "loss: 2.428250\n",
      "sanity check: 2.302585\n"
     ]
    }
   ],
   "source": [
    "# First implement the naive softmax loss function with nested loops.\n",
    "# Open the file comp451/classifiers/softmax.py and implement the\n",
    "# softmax_loss_naive function.\n",
    "\n",
    "from comp451.classifiers.softmax import softmax_loss_naive\n",
    "import time\n",
    "\n",
    "# Generate a random softmax weight matrix and use it to compute the loss.\n",
    "W = np.random.randn(3073, 10) * 0.0001\n",
    "loss, grad = softmax_loss_naive(W, X_dev, y_dev, 0.0, 0.0)\n",
    "\n",
    "# As a rough sanity check, our loss should be something close to -log(0.1).\n",
    "print('loss: %f' % loss)\n",
    "print('sanity check: %f' % (-np.log(0.1)))"
   ]
  },
  {
   "cell_type": "markdown",
   "metadata": {
    "tags": [
     "pdf-inline"
    ]
   },
   "source": [
    "**Inline Question 1**\n",
    "\n",
    "Why do we expect our loss to be close to -log(0.1)? Explain briefly.**\n",
    "\n",
    "$\\color{blue}{\\textit Your Answer:}$ There are 10 classes, 0.1 comes from 1/10\n",
    "\n"
   ]
  },
  {
   "cell_type": "code",
   "execution_count": 18,
   "metadata": {},
   "outputs": [
    {
     "name": "stdout",
     "output_type": "stream",
     "text": [
      "numerical: 2.392646 analytic: 2.392646, relative error: 2.626799e-08\n",
      "numerical: 0.079223 analytic: 0.079223, relative error: 3.683197e-07\n",
      "numerical: 0.511755 analytic: 0.511755, relative error: 8.567792e-08\n",
      "numerical: -2.140146 analytic: -2.140146, relative error: 9.481806e-10\n",
      "numerical: 4.937019 analytic: 4.937019, relative error: 4.131773e-09\n",
      "numerical: -0.380916 analytic: -0.380916, relative error: 4.613243e-08\n",
      "numerical: 2.646835 analytic: 2.646835, relative error: 8.224327e-09\n",
      "numerical: -2.451679 analytic: -2.451679, relative error: 5.705344e-09\n",
      "numerical: 1.130708 analytic: 1.130707, relative error: 9.400021e-08\n",
      "numerical: 1.539078 analytic: 1.539078, relative error: 4.651855e-09\n",
      "numerical: 47.668887 analytic: -2.327151, relative error: 1.000000e+00\n",
      "numerical: 53.031230 analytic: 3.031785, relative error: 8.918437e-01\n",
      "numerical: 52.526104 analytic: 2.536717, relative error: 9.078610e-01\n",
      "numerical: -49.891798 analytic: 0.106124, relative error: 1.000000e+00\n",
      "numerical: -41.263968 analytic: 2.989920, relative error: 1.000000e+00\n",
      "numerical: -51.900309 analytic: -1.908323, relative error: 9.290700e-01\n",
      "numerical: 47.140967 analytic: -2.858021, relative error: 1.000000e+00\n",
      "numerical: -48.310233 analytic: 1.685566, relative error: 1.000000e+00\n",
      "numerical: 51.286203 analytic: 1.289012, relative error: 9.509650e-01\n",
      "numerical: 48.515477 analytic: -1.470074, relative error: 1.000000e+00\n"
     ]
    }
   ],
   "source": [
    "# Complete the implementation of softmax_loss_naive and implement a (naive)\n",
    "# version of the gradient that uses nested loops.\n",
    "loss, grad = softmax_loss_naive(W, X_dev, y_dev, 0.0, 0.0)\n",
    "\n",
    "# As we did for the SVM, use numeric gradient checking as a debugging tool.\n",
    "# The numeric gradient should be close to the analytic gradient.\n",
    "from comp451.gradient_check import grad_check_sparse\n",
    "f = lambda w: softmax_loss_naive(w, X_dev, y_dev, 0.0, 0.0)[0]\n",
    "grad_numerical = grad_check_sparse(f, W, grad, 10)\n",
    "\n",
    "# similar to SVM case, do another gradient check with regularizations\n",
    "loss, grad = softmax_loss_naive(W, X_dev, y_dev, 5e1, 5e1)\n",
    "f = lambda w: softmax_loss_naive(w, X_dev, y_dev, 5e1, 5e1)[0]\n",
    "grad_numerical = grad_check_sparse(f, W, grad, 10)"
   ]
  },
  {
   "cell_type": "code",
   "execution_count": 19,
   "metadata": {},
   "outputs": [
    {
     "name": "stdout",
     "output_type": "stream",
     "text": [
      "naive loss: 2.428262e+00 computed in 17.172513s\n",
      "vectorized loss: 2.428262e+00 computed in 0.005006s\n",
      "Loss difference: 0.000000\n",
      "Gradient difference: 0.000000\n"
     ]
    }
   ],
   "source": [
    "# Now that we have a naive implementation of the softmax loss function and its gradient,\n",
    "# implement a vectorized version in softmax_loss_vectorized.\n",
    "# The two versions should compute the same results, but the vectorized version should be\n",
    "# much faster.\n",
    "tic = time.time()\n",
    "loss_naive, grad_naive = softmax_loss_naive(W, X_dev, y_dev, 0.000005, 0.000005)\n",
    "toc = time.time()\n",
    "print('naive loss: %e computed in %fs' % (loss_naive, toc - tic))\n",
    "\n",
    "from comp451.classifiers.softmax import softmax_loss_vectorized\n",
    "tic = time.time()\n",
    "loss_vectorized, grad_vectorized = softmax_loss_vectorized(W, X_dev, y_dev, 0.000005, 0.000005)\n",
    "toc = time.time()\n",
    "print('vectorized loss: %e computed in %fs' % (loss_vectorized, toc - tic))\n",
    "\n",
    "# As we did for the SVM, we use the Frobenius norm to compare the two versions\n",
    "# of the gradient.\n",
    "grad_difference = np.linalg.norm(grad_naive - grad_vectorized, ord='fro')\n",
    "print('Loss difference: %f' % np.abs(loss_naive - loss_vectorized))\n",
    "print('Gradient difference: %f' % grad_difference)"
   ]
  },
  {
   "cell_type": "code",
   "execution_count": 20,
   "metadata": {
    "tags": [
     "code"
    ]
   },
   "outputs": [
    {
     "name": "stdout",
     "output_type": "stream",
     "text": [
      "lr 1.000000e-07 rg_l2 2.500000e+04 rg_l1 0.000000e+00 train accuracy: 0.336776 val accuracy: 0.347000\n",
      "lr 1.000000e-07 rg_l2 2.500000e+04 rg_l1 2.500000e+02 train accuracy: 0.338020 val accuracy: 0.346000\n",
      "lr 1.000000e-07 rg_l2 2.500000e+04 rg_l1 5.000000e+02 train accuracy: 0.334388 val accuracy: 0.334000\n",
      "lr 1.000000e-07 rg_l2 5.000000e+04 rg_l1 0.000000e+00 train accuracy: 0.328592 val accuracy: 0.341000\n",
      "lr 1.000000e-07 rg_l2 5.000000e+04 rg_l1 2.500000e+02 train accuracy: 0.329286 val accuracy: 0.336000\n",
      "lr 1.000000e-07 rg_l2 5.000000e+04 rg_l1 5.000000e+02 train accuracy: 0.332735 val accuracy: 0.342000\n",
      "lr 3.250000e-07 rg_l2 2.500000e+04 rg_l1 0.000000e+00 train accuracy: 0.339918 val accuracy: 0.357000\n",
      "lr 3.250000e-07 rg_l2 2.500000e+04 rg_l1 2.500000e+02 train accuracy: 0.353163 val accuracy: 0.366000\n",
      "lr 3.250000e-07 rg_l2 2.500000e+04 rg_l1 5.000000e+02 train accuracy: 0.346980 val accuracy: 0.358000\n",
      "lr 3.250000e-07 rg_l2 5.000000e+04 rg_l1 0.000000e+00 train accuracy: 0.329673 val accuracy: 0.346000\n",
      "lr 3.250000e-07 rg_l2 5.000000e+04 rg_l1 2.500000e+02 train accuracy: 0.322939 val accuracy: 0.346000\n",
      "lr 3.250000e-07 rg_l2 5.000000e+04 rg_l1 5.000000e+02 train accuracy: 0.328122 val accuracy: 0.344000\n",
      "lr 5.500000e-07 rg_l2 2.500000e+04 rg_l1 0.000000e+00 train accuracy: 0.348102 val accuracy: 0.359000\n",
      "lr 5.500000e-07 rg_l2 2.500000e+04 rg_l1 2.500000e+02 train accuracy: 0.348673 val accuracy: 0.366000\n",
      "lr 5.500000e-07 rg_l2 2.500000e+04 rg_l1 5.000000e+02 train accuracy: 0.336163 val accuracy: 0.349000\n",
      "lr 5.500000e-07 rg_l2 5.000000e+04 rg_l1 0.000000e+00 train accuracy: 0.314306 val accuracy: 0.340000\n",
      "lr 5.500000e-07 rg_l2 5.000000e+04 rg_l1 2.500000e+02 train accuracy: 0.322694 val accuracy: 0.341000\n",
      "lr 5.500000e-07 rg_l2 5.000000e+04 rg_l1 5.000000e+02 train accuracy: 0.325571 val accuracy: 0.341000\n",
      "lr 7.750000e-07 rg_l2 2.500000e+04 rg_l1 0.000000e+00 train accuracy: 0.352796 val accuracy: 0.377000\n",
      "lr 7.750000e-07 rg_l2 2.500000e+04 rg_l1 2.500000e+02 train accuracy: 0.349898 val accuracy: 0.352000\n",
      "lr 7.750000e-07 rg_l2 2.500000e+04 rg_l1 5.000000e+02 train accuracy: 0.341857 val accuracy: 0.360000\n",
      "lr 7.750000e-07 rg_l2 5.000000e+04 rg_l1 0.000000e+00 train accuracy: 0.321306 val accuracy: 0.330000\n",
      "lr 7.750000e-07 rg_l2 5.000000e+04 rg_l1 2.500000e+02 train accuracy: 0.325898 val accuracy: 0.343000\n",
      "lr 7.750000e-07 rg_l2 5.000000e+04 rg_l1 5.000000e+02 train accuracy: 0.334327 val accuracy: 0.343000\n",
      "lr 1.000000e-06 rg_l2 2.500000e+04 rg_l1 0.000000e+00 train accuracy: 0.345735 val accuracy: 0.346000\n",
      "lr 1.000000e-06 rg_l2 2.500000e+04 rg_l1 2.500000e+02 train accuracy: 0.348592 val accuracy: 0.339000\n",
      "lr 1.000000e-06 rg_l2 2.500000e+04 rg_l1 5.000000e+02 train accuracy: 0.347592 val accuracy: 0.359000\n",
      "lr 1.000000e-06 rg_l2 5.000000e+04 rg_l1 0.000000e+00 train accuracy: 0.324408 val accuracy: 0.336000\n",
      "lr 1.000000e-06 rg_l2 5.000000e+04 rg_l1 2.500000e+02 train accuracy: 0.318918 val accuracy: 0.322000\n",
      "lr 1.000000e-06 rg_l2 5.000000e+04 rg_l1 5.000000e+02 train accuracy: 0.323143 val accuracy: 0.334000\n",
      "best validation accuracy achieved during cross-validation: 0.377000\n"
     ]
    }
   ],
   "source": [
    "# Use the validation set to tune hyperparameters (regularization strength and\n",
    "# learning rate). You should experiment with different ranges for the learning\n",
    "# rates and regularization strengths; if you are careful you should be able to\n",
    "# get a classification accuracy of over 0.35 on the validation set.\n",
    "from comp451.classifiers import Softmax\n",
    "results = {}\n",
    "best_val = -1\n",
    "best_softmax = None\n",
    "\n",
    "################################################################################\n",
    "# TODO:                                                                        #\n",
    "# Use the validation set to set the learning rate and regularization strength. #\n",
    "# This should be similar to the validation that you did for the SVM; save      #\n",
    "# the best trained softmax classifer in best_softmax.                          #\n",
    "################################################################################\n",
    "\n",
    "# Provided as a reference. You may or may not want to change these hyperparameters\n",
    "learning_rates = np.linspace(1e-7, 1e-6, 5)\n",
    "regularization_strengths_l2 = [2.5e4, 5e4]\n",
    "regularization_strengths_l1 = [0, 2.5e2, 5e2]\n",
    "\n",
    "# *****START OF YOUR CODE (DO NOT DELETE/MODIFY THIS LINE)*****\n",
    "\n",
    "grid_search = [ (lr,rg2, rg1) for lr in learning_rates for rg2 in regularization_strengths_l2 for rg1 in regularization_strengths_l1 ]\n",
    "#print(\"gridserc\")\n",
    "#print(grid_search)\n",
    "for lr, rg2, rg1 in grid_search:\n",
    "    \n",
    "    softmax = Softmax()\n",
    "    #print('---------')\n",
    "    #print(rg2)\n",
    "    softmax.train(X_train, y_train, learning_rate=lr, reg=float(rg2), num_iters=1000, verbose=False)\n",
    "    y_train_pred = softmax.predict(X_train)\n",
    "    train_accuracy = np.mean(y_train_pred == y_train)\n",
    "    y_val_pred = softmax.predict(X_val)\n",
    "    val_accuracy = np.mean(y_val_pred == y_val)\n",
    "\n",
    "    \n",
    "    results[(lr,rg2, rg1)] = (train_accuracy, val_accuracy)\n",
    "    if best_val < val_accuracy:\n",
    "        best_val = val_accuracy\n",
    "        best_softmax = softmax\n",
    "\n",
    "        \n",
    "# *****END OF YOUR CODE (DO NOT DELETE/MODIFY THIS LINE)*****\n",
    "    \n",
    "# Print out results.\n",
    "for lr, rg_l2, rg_l1 in sorted(results):\n",
    "    train_accuracy, val_accuracy = results[(lr, rg_l2,rg_l1)]\n",
    "    print('lr %e rg_l2 %e rg_l1 %e train accuracy: %f val accuracy: %f' % (\n",
    "                lr, rg_l2, rg_l1, train_accuracy, val_accuracy))\n",
    "    \n",
    "print('best validation accuracy achieved during cross-validation: %f' % best_val)"
   ]
  },
  {
   "cell_type": "code",
   "execution_count": 21,
   "metadata": {},
   "outputs": [
    {
     "name": "stdout",
     "output_type": "stream",
     "text": [
      "softmax on raw pixels final test set accuracy: 0.357000\n"
     ]
    }
   ],
   "source": [
    "# evaluate on test set\n",
    "# Evaluate the best softmax on test set\n",
    "y_test_pred = best_softmax.predict(X_test)\n",
    "test_accuracy = np.mean(y_test == y_test_pred)\n",
    "print('softmax on raw pixels final test set accuracy: %f' % (test_accuracy, ))"
   ]
  },
  {
   "cell_type": "markdown",
   "metadata": {
    "tags": [
     "pdf-inline"
    ]
   },
   "source": [
    "**Inline Question 2** - *True or False*\n",
    "\n",
    "Suppose the overall training loss is defined as the sum of the per-datapoint loss over all training examples. It is possible to add a new datapoint to a training set that would leave the SVM loss unchanged, but this is not the case with the Softmax classifier loss.\n",
    "\n",
    "$\\color{blue}{\\textit Your Answer:}$ True\n",
    "\n",
    "\n",
    "\n",
    "$\\color{blue}{\\textit Your Explanation:}$ Since the softmax handles per score during the loss calculation, it doesnt remain unchanged.\n",
    "\n"
   ]
  },
  {
   "cell_type": "markdown",
   "metadata": {},
   "source": [
    "**Inline Question 3** \n",
    "\n",
    "Comment on the effects of unifying L1 and L2 losses while using Elastic Net Regularization Loss? Did L2 loss achieve better when used alone or not?\n",
    "\n",
    "$\\color{blue}{\\textit Your Comment:}$"
   ]
  },
  {
   "cell_type": "code",
   "execution_count": 22,
   "metadata": {},
   "outputs": [
    {
     "data": {
      "image/png": "[encoded data removed]",
      "text/plain": [
       "<Figure size 432x288 with 10 Axes>"
      ]
     },
     "metadata": {
      "needs_background": "light"
     },
     "output_type": "display_data"
    }
   ],
   "source": [
    "# Visualize the learned weights for each class\n",
    "w = best_softmax.W[:-1,:] # strip out the bias\n",
    "w = w.reshape(32, 32, 3, 10)\n",
    "\n",
    "w_min, w_max = np.min(w), np.max(w)\n",
    "\n",
    "classes = ['plane', 'car', 'bird', 'cat', 'deer', 'dog', 'frog', 'horse', 'ship', 'truck']\n",
    "for i in range(10):\n",
    "    plt.subplot(2, 5, i + 1)\n",
    "    \n",
    "    # Rescale the weights to be between 0 and 255\n",
    "    wimg = 255.0 * (w[:, :, :, i].squeeze() - w_min) / (w_max - w_min)\n",
    "    plt.imshow(wimg.astype('uint8'))\n",
    "    plt.axis('off')\n",
    "    plt.title(classes[i])"
   ]
  },
  {
   "cell_type": "code",
   "execution_count": null,
   "metadata": {},
   "outputs": [],
   "source": []
  }
 ],
 "metadata": {
  "kernelspec": {
   "display_name": "Python 3",
   "language": "python",
   "name": "python3"
  },
  "language_info": {
   "codemirror_mode": {
    "name": "ipython",
    "version": 3
   },
   "file_extension": ".py",
   "mimetype": "text/x-python",
   "name": "python",
   "nbconvert_exporter": "python",
   "pygments_lexer": "ipython3",
   "version": "3.7.9"
  }
 },
 "nbformat": 4,
 "nbformat_minor": 4
}
